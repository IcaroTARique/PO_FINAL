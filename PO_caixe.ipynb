{
 "cells": [
  {
   "cell_type": "markdown",
   "metadata": {
    "colab_type": "text",
    "id": "Wi8Uqhm812as"
   },
   "source": [
    "## IMPORTS"
   ]
  },
  {
   "cell_type": "code",
   "execution_count": 34,
   "metadata": {
    "colab": {},
    "colab_type": "code",
    "id": "-QZyoPGr17qv"
   },
   "outputs": [],
   "source": [
    "import numpy as np\n",
    "import math\n",
    "import matplotlib.pyplot as plt\n",
    "from docplex.mp.model import Model\n",
    "import docplex.mp.solution as Solution"
   ]
  },
  {
   "cell_type": "markdown",
   "metadata": {
    "colab_type": "text",
    "id": "2ty0Vit12S0b"
   },
   "source": [
    "## FUNÇÕES"
   ]
  },
  {
   "cell_type": "code",
   "execution_count": 35,
   "metadata": {
    "colab": {},
    "colab_type": "code",
    "id": "727hsXmKgv2e"
   },
   "outputs": [],
   "source": [
    "def CreateLocation(amount):\n",
    "    return [i for i in range(amount)]\n",
    "\n",
    "def CreatePath(location):\n",
    "    #The creation of paths obey one restriction, they cannot connect a node - or \n",
    "    #location - with itself, so we avoid that writing a IF at the end of a list \n",
    "    #comprehention\n",
    "    return [(i,j) for i in location for j in location if i!=j]"
   ]
  },
  {
   "cell_type": "code",
   "execution_count": 36,
   "metadata": {
    "colab": {},
    "colab_type": "code",
    "id": "1MWyTqcui4t8"
   },
   "outputs": [],
   "source": [
    "def RandCoordinates(ammount):\n",
    "    random = np.random\n",
    "    random.seed(1)\n",
    "    X = np.round(random.rand(n)*1000,1)\n",
    "    Y = np.round(random.rand(n)*1000,1)\n",
    "  \n",
    "    return X,Y"
   ]
  },
  {
   "cell_type": "code",
   "execution_count": 37,
   "metadata": {
    "colab": {},
    "colab_type": "code",
    "id": "loHtophXvCX1"
   },
   "outputs": [],
   "source": [
    "def plotMap(x,y):\n",
    "    plt.figure(figsize=(12,8))\n",
    "    plt.scatter(x,y,color='blue')\n",
    "    s=[]\n",
    "    for n in range(len(x)):\n",
    "        s_temp=[]\n",
    "        s_temp.append(\"%.1f\" %x[n])\n",
    "        s_temp.append(\"%.1f\" %y[n])\n",
    "        s.append(s_temp)\n",
    "\n",
    "    plt.xlabel(\"X Coordinates\")\n",
    "    plt.ylabel(\"Y Coordinates\")\n",
    "    plt.title(\"Locations - TSP\")\n",
    "\n",
    "    for n in range(len(x)):\n",
    "        plt.annotate(str(s[n]), xy=(x[n],y[n] ), xytext=(x[n]-50,y[n]-30),color='purple')\n",
    "\n",
    "    for n in range(len(x)):\n",
    "        plt.annotate(str(n), xy=(x[n],y[n] ), xytext=(x[n]+5,y[n]+10),color='red')\n",
    "\n",
    "    plt.show()"
   ]
  },
  {
   "cell_type": "code",
   "execution_count": 38,
   "metadata": {
    "colab": {},
    "colab_type": "code",
    "id": "HPzkSmnh7zh_"
   },
   "outputs": [],
   "source": [
    "def pythagoras(x,y,i,j):\n",
    "    return round(math.sqrt((x[i]-x[j])**2 + (y[i] - y[j])**2),1)\n",
    "  \n",
    "  "
   ]
  },
  {
   "cell_type": "code",
   "execution_count": 80,
   "metadata": {},
   "outputs": [],
   "source": [
    "def plotMapFinal(x,y,x_final,paths):\n",
    "    plt.figure(figsize=(12,8))\n",
    "    plt.scatter(x,y,color='blue')\n",
    "    s=[]\n",
    "    for n in range(len(x)):\n",
    "        s_temp=[]\n",
    "        s_temp.append(\"%.1f\" %x[n])\n",
    "        s_temp.append(\"%.1f\" %y[n])\n",
    "        s.append(s_temp)\n",
    "    \n",
    "    arcos_activos = [i for i in paths if x_final[i].solution_value > 0.9]\n",
    "    for i,j in arcos_activos:\n",
    "        plt.plot([x[i],x[j]],[y[i],y[j]],color='b', alpha=0.4, zorder=0)\n",
    "        plt.scatter(x=x, y=y, color='blue', zorder=1)\n",
    "    \n",
    "    plt.xlabel(\"X Coordinates\")\n",
    "    plt.ylabel(\"Y Coordinates\")\n",
    "    plt.title(\"Locations - TSP\")\n",
    "\n",
    "    for n in range(len(x)):\n",
    "        plt.annotate(str(s[n]), xy=(x[n],y[n] ), xytext=(x[n]-50,y[n]-30),color='purple')\n",
    "\n",
    "    for n in range(len(x)):\n",
    "        plt.annotate(str(n), xy=(x[n],y[n] ), xytext=(x[n]+5,y[n]+10),color='red')\n",
    "\n",
    "    plt.show()\n"
   ]
  },
  {
   "cell_type": "markdown",
   "metadata": {
    "colab_type": "text",
    "id": "vP8E4Bys2Vzl"
   },
   "source": [
    "##MAIN"
   ]
  },
  {
   "cell_type": "code",
   "execution_count": 147,
   "metadata": {
    "colab": {
     "base_uri": "https://localhost:8080/",
     "height": 54
    },
    "colab_type": "code",
    "id": "N6aymXqvi6So",
    "outputId": "fd96e51d-bc2b-448a-f41c-3fdbf37aa366"
   },
   "outputs": [],
   "source": [
    "#Ammount of locations and it's paths\n",
    "n = 5\n",
    "\n",
    "#Create Location\n",
    "location = CreateLocation(n)\n",
    "#Create Path\n",
    "paths = CreatePath(location)\n",
    "#Create Coordinates\n",
    "x_coordinate, y_coordinate = RandCoordinates(paths)"
   ]
  },
  {
   "cell_type": "code",
   "execution_count": 148,
   "metadata": {
    "colab": {
     "base_uri": "https://localhost:8080/",
     "height": 513
    },
    "colab_type": "code",
    "id": "Vop9bNOCq3pG",
    "outputId": "2984d562-a638-4bb1-e6ce-bd98ee273f80"
   },
   "outputs": [
    {
     "data": {
      "image/png": "[encoded data removed]",
      "text/plain": [
       "<Figure size 864x576 with 1 Axes>"
      ]
     },
     "metadata": {
      "needs_background": "light"
     },
     "output_type": "display_data"
    }
   ],
   "source": [
    "plotMap(x_coordinate, y_coordinate)"
   ]
  },
  {
   "cell_type": "code",
   "execution_count": 149,
   "metadata": {
    "colab": {
     "base_uri": "https://localhost:8080/",
     "height": 54
    },
    "colab_type": "code",
    "id": "JU6bTeO39zAw",
    "outputId": "0842d87c-2ab5-4214-eabc-fd048d88ca98"
   },
   "outputs": [],
   "source": [
    "distance={}\n",
    "for i in range(n):\n",
    "    for j in range(n):\n",
    "        if i != j:\n",
    "            distance[i,j] = pythagoras(x_coordinate, y_coordinate,i,j)\n"
   ]
  },
  {
   "cell_type": "markdown",
   "metadata": {
    "colab_type": "text",
    "id": "aebo9hG7C5Ki"
   },
   "source": [
    "## MODELAGEM"
   ]
  },
  {
   "cell_type": "code",
   "execution_count": 172,
   "metadata": {
    "colab": {},
    "colab_type": "code",
    "id": "tAoTTkz-C6wu"
   },
   "outputs": [],
   "source": [
    "#Defining the model problem\n",
    "model = Model('Traveling Salesman Problem')"
   ]
  },
  {
   "cell_type": "code",
   "execution_count": 173,
   "metadata": {
    "colab": {},
    "colab_type": "code",
    "id": "Ula8NtqKQXOX"
   },
   "outputs": [],
   "source": [
    "x=model.binary_var_dict(paths,name='x')\n",
    "c=model.continuous_var_dict(location,name='c')"
   ]
  },
  {
   "cell_type": "code",
   "execution_count": 174,
   "metadata": {
    "colab": {},
    "colab_type": "code",
    "id": "DgNNhGBzXlsL"
   },
   "outputs": [],
   "source": [
    "model.minimize(model.sum(distance[i]*x[i] for i in paths))"
   ]
  },
  {
   "cell_type": "code",
   "execution_count": 175,
   "metadata": {
    "colab": {},
    "colab_type": "code",
    "id": "2Si5_Y7mX1lm"
   },
   "outputs": [],
   "source": [
    "for l in location:\n",
    "    model.add_constraint(model.sum(x[(i,j)] for i,j in paths if i==l)==1)"
   ]
  },
  {
   "cell_type": "code",
   "execution_count": 176,
   "metadata": {
    "colab": {},
    "colab_type": "code",
    "id": "vm1H8jjRSKU0"
   },
   "outputs": [],
   "source": [
    "for l in location:\n",
    "    model.add_constraint(model.sum(x[(i,j)] for i,j in paths if j==l)==1)"
   ]
  },
  {
   "cell_type": "code",
   "execution_count": 177,
   "metadata": {
    "colab": {},
    "colab_type": "code",
    "id": "4aablKRFYXOI"
   },
   "outputs": [],
   "source": [
    "# Logical Restriction\n",
    "for i,j in paths:\n",
    "    if j!=0:\n",
    "        model.add_indicator(x[(i,j)],c[i]+1==c[j])"
   ]
  },
  {
   "cell_type": "code",
   "execution_count": 178,
   "metadata": {
    "colab": {
     "base_uri": "https://localhost:8080/",
     "height": 1000
    },
    "colab_type": "code",
    "id": "TpZiA_DsaRoK",
    "outputId": "e66473a9-456a-4928-d040-fd83adda850e"
   },
   "outputs": [
    {
     "name": "stdout",
     "output_type": "stream",
     "text": [
      "\\ This file has been generated by DOcplex\n",
      "\\ ENCODING=ISO-8859-1\n",
      "\\Problem name: Traveling Salesman Problem\n",
      "\n",
      "Minimize\n",
      " obj: 317.500000000000 x_0_1 + 487.800000000000 x_0_2 + 325.400000000000 x_0_3\n",
      "      + 521.900000000000 x_0_4 + 317.500000000000 x_1_0 + 737.600000000000 x_1_2\n",
      "      + 468 x_1_3 + 673.200000000000 x_1_4 + 487.800000000000 x_2_0\n",
      "      + 737.600000000000 x_2_1 + 306.500000000000 x_2_3 + 242.600000000000 x_2_4\n",
      "      + 325.400000000000 x_3_0 + 468 x_3_1 + 306.500000000000 x_3_2\n",
      "      + 210.600000000000 x_3_4 + 521.900000000000 x_4_0 + 673.200000000000 x_4_1\n",
      "      + 242.600000000000 x_4_2 + 210.600000000000 x_4_3\n",
      "Subject To\n",
      " c1: x_0_1 + x_0_2 + x_0_3 + x_0_4 = 1\n",
      " c2: x_1_0 + x_1_2 + x_1_3 + x_1_4 = 1\n",
      " c3: x_2_0 + x_2_1 + x_2_3 + x_2_4 = 1\n",
      " c4: x_3_0 + x_3_1 + x_3_2 + x_3_4 = 1\n",
      " c5: x_4_0 + x_4_1 + x_4_2 + x_4_3 = 1\n",
      " c6: x_1_0 + x_2_0 + x_3_0 + x_4_0 = 1\n",
      " c7: x_0_1 + x_2_1 + x_3_1 + x_4_1 = 1\n",
      " c8: x_0_2 + x_1_2 + x_3_2 + x_4_2 = 1\n",
      " c9: x_0_3 + x_1_3 + x_2_3 + x_4_3 = 1\n",
      " c10: x_0_4 + x_1_4 + x_2_4 + x_3_4 = 1\n",
      " lc1: x_0_1 = 1 -> c_0 - c_1 = -1\n",
      " lc2: x_0_2 = 1 -> c_0 - c_2 = -1\n",
      " lc3: x_0_3 = 1 -> c_0 - c_3 = -1\n",
      " lc4: x_0_4 = 1 -> c_0 - c_4 = -1\n",
      " lc5: x_1_2 = 1 -> c_1 - c_2 = -1\n",
      " lc6: x_1_3 = 1 -> c_1 - c_3 = -1\n",
      " lc7: x_1_4 = 1 -> c_1 - c_4 = -1\n",
      " lc8: x_2_1 = 1 -> c_2 - c_1 = -1\n",
      " lc9: x_2_3 = 1 -> c_2 - c_3 = -1\n",
      " lc10: x_2_4 = 1 -> c_2 - c_4 = -1\n",
      " lc11: x_3_1 = 1 -> c_3 - c_1 = -1\n",
      " lc12: x_3_2 = 1 -> c_3 - c_2 = -1\n",
      " lc13: x_3_4 = 1 -> c_3 - c_4 = -1\n",
      " lc14: x_4_1 = 1 -> c_4 - c_1 = -1\n",
      " lc15: x_4_2 = 1 -> c_4 - c_2 = -1\n",
      " lc16: x_4_3 = 1 -> c_4 - c_3 = -1\n",
      "\n",
      "Bounds\n",
      " 0 <= x_0_1 <= 1\n",
      " 0 <= x_0_2 <= 1\n",
      " 0 <= x_0_3 <= 1\n",
      " 0 <= x_0_4 <= 1\n",
      " 0 <= x_1_0 <= 1\n",
      " 0 <= x_1_2 <= 1\n",
      " 0 <= x_1_3 <= 1\n",
      " 0 <= x_1_4 <= 1\n",
      " 0 <= x_2_0 <= 1\n",
      " 0 <= x_2_1 <= 1\n",
      " 0 <= x_2_3 <= 1\n",
      " 0 <= x_2_4 <= 1\n",
      " 0 <= x_3_0 <= 1\n",
      " 0 <= x_3_1 <= 1\n",
      " 0 <= x_3_2 <= 1\n",
      " 0 <= x_3_4 <= 1\n",
      " 0 <= x_4_0 <= 1\n",
      " 0 <= x_4_1 <= 1\n",
      " 0 <= x_4_2 <= 1\n",
      " 0 <= x_4_3 <= 1\n",
      "\n",
      "Binaries\n",
      " x_0_1 x_0_2 x_0_3 x_0_4 x_1_0 x_1_2 x_1_3 x_1_4 x_2_0 x_2_1 x_2_3 x_2_4 x_3_0\n",
      " x_3_1 x_3_2 x_3_4 x_4_0 x_4_1 x_4_2 x_4_3\n",
      "End\n",
      "\n"
     ]
    }
   ],
   "source": [
    "print(model.export_to_string())"
   ]
  },
  {
   "cell_type": "code",
   "execution_count": 179,
   "metadata": {
    "colab": {
     "base_uri": "https://localhost:8080/",
     "height": 326
    },
    "colab_type": "code",
    "id": "itJ_sfQ4Zksf",
    "outputId": "1bfaf0b6-0898-4d6e-c172-31fd7f18663e"
   },
   "outputs": [
    {
     "name": "stdout",
     "output_type": "stream",
     "text": [
      "CPXPARAM_Read_DataCheck                          1\n",
      "Tried aggregator 2 times.\n",
      "MIP Presolve modified 6 coefficients.\n",
      "Aggregator did 6 substitutions.\n",
      "Reduced MIP has 20 rows, 35 columns, and 70 nonzeros.\n",
      "Reduced MIP has 20 binaries, 0 generals, 0 SOSs, and 16 indicators.\n",
      "Presolve time = 0.00 sec. (0.06 ticks)\n",
      "Found incumbent of value 1726.500000 after 0.01 sec. (0.17 ticks)\n",
      "Probing time = 0.00 sec. (0.02 ticks)\n",
      "Tried aggregator 1 time.\n",
      "Reduced MIP has 20 rows, 35 columns, and 70 nonzeros.\n",
      "Reduced MIP has 20 binaries, 0 generals, 0 SOSs, and 16 indicators.\n",
      "Presolve time = 0.00 sec. (0.05 ticks)\n",
      "Probing time = 0.00 sec. (0.02 ticks)\n",
      "Clique table members: 16.\n",
      "MIP emphasis: balance optimality and feasibility.\n",
      "MIP search method: dynamic search.\n",
      "Parallel mode: deterministic, using up to 4 threads.\n",
      "Root relaxation solution time = 0.00 sec. (0.03 ticks)\n",
      "\n",
      "        Nodes                                         Cuts/\n",
      "   Node  Left     Objective  IInf  Best Integer    Best Bound    ItCnt     Gap\n",
      "\n",
      "*     0+    0                         1726.5000        0.0000           100.00%\n",
      "      0     0     1394.7000     4     1726.5000     1394.7000        2   19.22%\n",
      "      0     0     1394.7000     3     1726.5000   Impl Bds: 1        3   19.22%\n",
      "      0     0        cutoff           1726.5000     1726.5000        3    0.00%\n",
      "Elapsed time = 0.05 sec. (0.76 ticks, tree = 0.01 MB, solutions = 1)\n",
      "\n",
      "Implied bound cuts applied:  1\n",
      "\n",
      "Root node processing (before b&c):\n",
      "  Real time             =    0.06 sec. (0.76 ticks)\n",
      "Parallel b&c, 4 threads:\n",
      "  Real time             =    0.00 sec. (0.00 ticks)\n",
      "  Sync time (average)   =    0.00 sec.\n",
      "  Wait time (average)   =    0.00 sec.\n",
      "                          ------------\n",
      "Total (root+branch&cut) =    0.06 sec. (0.76 ticks)\n"
     ]
    }
   ],
   "source": [
    "solution = model.solve(log_output=True)"
   ]
  },
  {
   "cell_type": "code",
   "execution_count": 180,
   "metadata": {},
   "outputs": [
    {
     "data": {
      "text/plain": [
       "<JobSolveStatus.OPTIMAL_SOLUTION: 2>"
      ]
     },
     "execution_count": 180,
     "metadata": {},
     "output_type": "execute_result"
    }
   ],
   "source": [
    "model.get_solve_status()"
   ]
  },
  {
   "cell_type": "code",
   "execution_count": 181,
   "metadata": {},
   "outputs": [
    {
     "name": "stdout",
     "output_type": "stream",
     "text": [
      "solution for: Traveling Salesman Problem\n",
      "objective: 1726.500\n",
      "x_0_1 = 1\n",
      "x_1_3 = 1\n",
      "x_2_0 = 1\n",
      "x_3_4 = 1\n",
      "x_4_2 = 1\n",
      "c_1 = 1.000\n",
      "c_2 = 4.000\n",
      "c_3 = 2.000\n",
      "c_4 = 3.000\n"
     ]
    }
   ],
   "source": [
    "solution.display()"
   ]
  },
  {
   "cell_type": "code",
   "execution_count": 182,
   "metadata": {},
   "outputs": [
    {
     "data": {
      "image/png": "[encoded data removed]",
      "text/plain": [
       "<Figure size 864x576 with 1 Axes>"
      ]
     },
     "metadata": {
      "needs_background": "light"
     },
     "output_type": "display_data"
    }
   ],
   "source": [
    "plotMapFinal(x_coordinate,y_coordinate,x,paths)"
   ]
  },
  {
   "cell_type": "code",
   "execution_count": null,
   "metadata": {},
   "outputs": [],
   "source": []
  }
 ],
 "metadata": {
  "accelerator": "GPU",
  "colab": {
   "collapsed_sections": [
    "bGLK8o_BdDHo",
    "REiaXgOhcZ3D"
   ],
   "name": "PO_caixe.ipynb",
   "provenance": []
  },
  "kernelspec": {
   "display_name": "Python 3",
   "language": "python",
   "name": "python3"
  },
  "language_info": {
   "codemirror_mode": {
    "name": "ipython",
    "version": 3
   },
   "file_extension": ".py",
   "mimetype": "text/x-python",
   "name": "python",
   "nbconvert_exporter": "python",
   "pygments_lexer": "ipython3",
   "version": "3.7.3"
  }
 },
 "nbformat": 4,
 "nbformat_minor": 1
}
